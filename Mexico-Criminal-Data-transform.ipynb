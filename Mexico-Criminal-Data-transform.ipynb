{
 "cells": [
  {
   "cell_type": "markdown",
   "id": "2aae2f39-6a6a-4313-9b58-6c565a2cb469",
   "metadata": {},
   "source": [
    "We import the csv refered to criminal activity."
   ]
  },
  {
   "cell_type": "code",
   "execution_count": 97,
   "id": "00cf525b-48ff-4588-8066-b24ed0478fd0",
   "metadata": {
    "tags": []
   },
   "outputs": [],
   "source": [
    "import pandas as pd\n",
    "df = pd.read_csv('https://raw.githubusercontent.com/JavierMtzZz/Mexico-Crime-dashboard/main/IDVFC_NM_ene23.csv', encoding='latin-1')"
   ]
  },
  {
   "cell_type": "markdown",
   "id": "f978647b-d09b-4e77-84f1-c17bbbf7cd13",
   "metadata": {},
   "source": [
    "We print the information about our columns and also display the  to decide what will be the way to work with our dataframe. "
   ]
  },
  {
   "cell_type": "code",
   "execution_count": 149,
   "id": "3c12efc6-9b8f-4866-98e4-bffbcb0e129a",
   "metadata": {
    "tags": []
   },
   "outputs": [
    {
     "name": "stdout",
     "output_type": "stream",
     "text": [
      "Index(['Año', 'Clave_Ent', 'Entidad', 'Bien jurídico afectado',\n",
      "       'Tipo de delito', 'Subtipo de delito', 'Modalidad', 'Sexo',\n",
      "       'Rango de edad', 'Enero', 'Febrero', 'Marzo', 'Abril', 'Mayo', 'Junio',\n",
      "       'Julio', 'Agosto', 'Septiembre', 'Octubre', 'Noviembre', 'Diciembre'],\n",
      "      dtype='object')\n"
     ]
    },
    {
     "data": {
      "text/html": [
       "<div>\n",
       "<style scoped>\n",
       "    .dataframe tbody tr th:only-of-type {\n",
       "        vertical-align: middle;\n",
       "    }\n",
       "\n",
       "    .dataframe tbody tr th {\n",
       "        vertical-align: top;\n",
       "    }\n",
       "\n",
       "    .dataframe thead th {\n",
       "        text-align: right;\n",
       "    }\n",
       "</style>\n",
       "<table border=\"1\" class=\"dataframe\">\n",
       "  <thead>\n",
       "    <tr style=\"text-align: right;\">\n",
       "      <th></th>\n",
       "      <th>Año</th>\n",
       "      <th>Clave_Ent</th>\n",
       "      <th>Entidad</th>\n",
       "      <th>Bien jurídico afectado</th>\n",
       "      <th>Tipo de delito</th>\n",
       "      <th>Subtipo de delito</th>\n",
       "      <th>Modalidad</th>\n",
       "      <th>Sexo</th>\n",
       "      <th>Rango de edad</th>\n",
       "      <th>Enero</th>\n",
       "      <th>...</th>\n",
       "      <th>Marzo</th>\n",
       "      <th>Abril</th>\n",
       "      <th>Mayo</th>\n",
       "      <th>Junio</th>\n",
       "      <th>Julio</th>\n",
       "      <th>Agosto</th>\n",
       "      <th>Septiembre</th>\n",
       "      <th>Octubre</th>\n",
       "      <th>Noviembre</th>\n",
       "      <th>Diciembre</th>\n",
       "    </tr>\n",
       "  </thead>\n",
       "  <tbody>\n",
       "    <tr>\n",
       "      <th>0</th>\n",
       "      <td>2015</td>\n",
       "      <td>1</td>\n",
       "      <td>Aguascalientes</td>\n",
       "      <td>La vida y la Integridad corporal</td>\n",
       "      <td>Homicidio</td>\n",
       "      <td>Homicidio doloso</td>\n",
       "      <td>Con arma de fuego</td>\n",
       "      <td>Mujer</td>\n",
       "      <td>Menores de edad (0-17)</td>\n",
       "      <td>0</td>\n",
       "      <td>...</td>\n",
       "      <td>0.0</td>\n",
       "      <td>0.0</td>\n",
       "      <td>0.0</td>\n",
       "      <td>0.0</td>\n",
       "      <td>0.0</td>\n",
       "      <td>0.0</td>\n",
       "      <td>0.0</td>\n",
       "      <td>0.0</td>\n",
       "      <td>0.0</td>\n",
       "      <td>0.0</td>\n",
       "    </tr>\n",
       "    <tr>\n",
       "      <th>1</th>\n",
       "      <td>2015</td>\n",
       "      <td>1</td>\n",
       "      <td>Aguascalientes</td>\n",
       "      <td>La vida y la Integridad corporal</td>\n",
       "      <td>Homicidio</td>\n",
       "      <td>Homicidio doloso</td>\n",
       "      <td>Con arma blanca</td>\n",
       "      <td>Mujer</td>\n",
       "      <td>Menores de edad (0-17)</td>\n",
       "      <td>0</td>\n",
       "      <td>...</td>\n",
       "      <td>0.0</td>\n",
       "      <td>0.0</td>\n",
       "      <td>0.0</td>\n",
       "      <td>0.0</td>\n",
       "      <td>0.0</td>\n",
       "      <td>0.0</td>\n",
       "      <td>0.0</td>\n",
       "      <td>0.0</td>\n",
       "      <td>0.0</td>\n",
       "      <td>0.0</td>\n",
       "    </tr>\n",
       "    <tr>\n",
       "      <th>2</th>\n",
       "      <td>2015</td>\n",
       "      <td>1</td>\n",
       "      <td>Aguascalientes</td>\n",
       "      <td>La vida y la Integridad corporal</td>\n",
       "      <td>Homicidio</td>\n",
       "      <td>Homicidio doloso</td>\n",
       "      <td>Con otro elemento</td>\n",
       "      <td>Mujer</td>\n",
       "      <td>Menores de edad (0-17)</td>\n",
       "      <td>0</td>\n",
       "      <td>...</td>\n",
       "      <td>0.0</td>\n",
       "      <td>0.0</td>\n",
       "      <td>1.0</td>\n",
       "      <td>0.0</td>\n",
       "      <td>0.0</td>\n",
       "      <td>1.0</td>\n",
       "      <td>0.0</td>\n",
       "      <td>0.0</td>\n",
       "      <td>0.0</td>\n",
       "      <td>0.0</td>\n",
       "    </tr>\n",
       "    <tr>\n",
       "      <th>3</th>\n",
       "      <td>2015</td>\n",
       "      <td>1</td>\n",
       "      <td>Aguascalientes</td>\n",
       "      <td>La vida y la Integridad corporal</td>\n",
       "      <td>Homicidio</td>\n",
       "      <td>Homicidio doloso</td>\n",
       "      <td>No especificado</td>\n",
       "      <td>Mujer</td>\n",
       "      <td>Menores de edad (0-17)</td>\n",
       "      <td>0</td>\n",
       "      <td>...</td>\n",
       "      <td>0.0</td>\n",
       "      <td>0.0</td>\n",
       "      <td>0.0</td>\n",
       "      <td>0.0</td>\n",
       "      <td>0.0</td>\n",
       "      <td>0.0</td>\n",
       "      <td>0.0</td>\n",
       "      <td>0.0</td>\n",
       "      <td>0.0</td>\n",
       "      <td>0.0</td>\n",
       "    </tr>\n",
       "    <tr>\n",
       "      <th>4</th>\n",
       "      <td>2015</td>\n",
       "      <td>1</td>\n",
       "      <td>Aguascalientes</td>\n",
       "      <td>La vida y la Integridad corporal</td>\n",
       "      <td>Homicidio</td>\n",
       "      <td>Homicidio culposo</td>\n",
       "      <td>Con arma de fuego</td>\n",
       "      <td>Mujer</td>\n",
       "      <td>Menores de edad (0-17)</td>\n",
       "      <td>0</td>\n",
       "      <td>...</td>\n",
       "      <td>0.0</td>\n",
       "      <td>0.0</td>\n",
       "      <td>0.0</td>\n",
       "      <td>0.0</td>\n",
       "      <td>0.0</td>\n",
       "      <td>0.0</td>\n",
       "      <td>0.0</td>\n",
       "      <td>0.0</td>\n",
       "      <td>0.0</td>\n",
       "      <td>0.0</td>\n",
       "    </tr>\n",
       "  </tbody>\n",
       "</table>\n",
       "<p>5 rows × 21 columns</p>\n",
       "</div>"
      ],
      "text/plain": [
       "    Año  Clave_Ent         Entidad            Bien jurídico afectado  \\\n",
       "0  2015          1  Aguascalientes  La vida y la Integridad corporal   \n",
       "1  2015          1  Aguascalientes  La vida y la Integridad corporal   \n",
       "2  2015          1  Aguascalientes  La vida y la Integridad corporal   \n",
       "3  2015          1  Aguascalientes  La vida y la Integridad corporal   \n",
       "4  2015          1  Aguascalientes  La vida y la Integridad corporal   \n",
       "\n",
       "  Tipo de delito  Subtipo de delito          Modalidad   Sexo  \\\n",
       "0      Homicidio   Homicidio doloso  Con arma de fuego  Mujer   \n",
       "1      Homicidio   Homicidio doloso    Con arma blanca  Mujer   \n",
       "2      Homicidio   Homicidio doloso  Con otro elemento  Mujer   \n",
       "3      Homicidio   Homicidio doloso    No especificado  Mujer   \n",
       "4      Homicidio  Homicidio culposo  Con arma de fuego  Mujer   \n",
       "\n",
       "            Rango de edad  Enero  ...  Marzo  Abril  Mayo  Junio  Julio  \\\n",
       "0  Menores de edad (0-17)      0  ...    0.0    0.0   0.0    0.0    0.0   \n",
       "1  Menores de edad (0-17)      0  ...    0.0    0.0   0.0    0.0    0.0   \n",
       "2  Menores de edad (0-17)      0  ...    0.0    0.0   1.0    0.0    0.0   \n",
       "3  Menores de edad (0-17)      0  ...    0.0    0.0   0.0    0.0    0.0   \n",
       "4  Menores de edad (0-17)      0  ...    0.0    0.0   0.0    0.0    0.0   \n",
       "\n",
       "   Agosto  Septiembre  Octubre  Noviembre  Diciembre  \n",
       "0     0.0         0.0      0.0        0.0        0.0  \n",
       "1     0.0         0.0      0.0        0.0        0.0  \n",
       "2     1.0         0.0      0.0        0.0        0.0  \n",
       "3     0.0         0.0      0.0        0.0        0.0  \n",
       "4     0.0         0.0      0.0        0.0        0.0  \n",
       "\n",
       "[5 rows x 21 columns]"
      ]
     },
     "execution_count": 149,
     "metadata": {},
     "output_type": "execute_result"
    }
   ],
   "source": [
    "print(df.columns)\n",
    "df.head()"
   ]
  },
  {
   "cell_type": "markdown",
   "id": "2b49d383-40b4-49ab-aa5e-aee4600ea44d",
   "metadata": {},
   "source": [
    "Now we can built an idea about how we want to visuallize the dataset, in this case I want to display a Mexico map where we can select the states and show the evolution of the crime data of the selected state, in this case only showing certain types of crimes, around 4 to 7, so let's see what are the crime types to decide wich we will use."
   ]
  },
  {
   "cell_type": "code",
   "execution_count": 99,
   "id": "004bfba2-f7bb-46da-aa13-fd448de36f6e",
   "metadata": {
    "tags": []
   },
   "outputs": [
    {
     "data": {
      "text/plain": [
       "array(['Homicidio', 'Lesiones', 'Feminicidio',\n",
       "       'Otros delitos que atentan contra la vida y la integridad corporal',\n",
       "       'Secuestro', 'Tráfico de menores', 'Rapto',\n",
       "       'Otros delitos que atentan contra la libertad personal',\n",
       "       'Extorsión', 'Corrupción de menores', 'Trata de personas',\n",
       "       'Otros delitos contra la sociedad', 'Aborto'], dtype=object)"
      ]
     },
     "execution_count": 99,
     "metadata": {},
     "output_type": "execute_result"
    }
   ],
   "source": [
    "pd.unique(df['Tipo de delito'])"
   ]
  },
  {
   "cell_type": "markdown",
   "id": "2a1d4a45-9ab2-4d3e-9df1-13e8e33f8cae",
   "metadata": {},
   "source": [
    "Within the crime types, we can decide what crimes we're interested, in this case will be the following: 'Homicidio', 'Feminicidio', 'Secuestro', 'trata de personas','Otros delitos que atentan contra la libertad personal', 'Trata de personas', 'Otros delitos que atentan contra la vida y la integridad corporal'"
   ]
  },
  {
   "cell_type": "code",
   "execution_count": 103,
   "id": "fe87866c-debf-4c0f-b7ae-2a9d9c246eff",
   "metadata": {
    "tags": []
   },
   "outputs": [],
   "source": [
    "crymeTypes = ['Homicidio', 'Feminicidio', 'Secuestro', 'trata de personas','Otros delitos que atentan contra la libertad personal', 'Trata de personas', 'Otros delitos que atentan contra la vida y la integridad corporal']"
   ]
  },
  {
   "cell_type": "code",
   "execution_count": 150,
   "id": "d34d12d2-c853-4eee-9d9d-8a9a0662c13f",
   "metadata": {
    "tags": []
   },
   "outputs": [],
   "source": [
    "df = df[df['Tipo de delito'].isin(crymeTypes)]"
   ]
  },
  {
   "cell_type": "code",
   "execution_count": 201,
   "id": "f084e9e2-39fe-45e4-92e4-af4c066dec7e",
   "metadata": {
    "tags": []
   },
   "outputs": [],
   "source": [
    "grpdf = df.groupby(['Año', 'Clave_Ent', 'Entidad','Tipo de delito'],as_index=False)[['Enero', 'Febrero', 'Marzo', 'Abril', 'Mayo', 'Junio',\n",
    "       'Julio', 'Agosto', 'Septiembre', 'Octubre', 'Noviembre', 'Diciembre']].sum()"
   ]
  },
  {
   "cell_type": "markdown",
   "id": "9fad914d-f166-4427-86b1-cebc883b94f5",
   "metadata": {},
   "source": [
    "Now we melt the amount of cases that we have by month."
   ]
  },
  {
   "cell_type": "code",
   "execution_count": 203,
   "id": "68efe3e0-d7d3-4c7f-b223-9a727398c6c5",
   "metadata": {
    "tags": []
   },
   "outputs": [],
   "source": [
    "grpdf = pd.melt(grpdf, id_vars= ['Año', 'Clave_Ent', 'Entidad','Tipo de delito'], var_name= 'Mes', value_name = 'Conteo', ignore_index=False)"
   ]
  },
  {
   "cell_type": "markdown",
   "id": "c878bf60-1b36-46cb-9d31-2ec2437dcbc1",
   "metadata": {},
   "source": [
    "Now we will need a column to signal the date, so let's do another column with a format of (mmmm yy) by adding the month and year columns."
   ]
  },
  {
   "cell_type": "code",
   "execution_count": 205,
   "id": "c4358d14-a6c0-4f1e-8e7e-1d0585cfb6b3",
   "metadata": {
    "tags": []
   },
   "outputs": [],
   "source": [
    "grpdf = grpdf.astype({\"Año\": str})"
   ]
  },
  {
   "cell_type": "code",
   "execution_count": 209,
   "id": "5f7b5e6e-829e-4164-940d-c63d4b81cc01",
   "metadata": {
    "tags": []
   },
   "outputs": [],
   "source": [
    "grpdf['fecha'] = grpdf['Mes'] + ' ' + grpdf['Año']"
   ]
  },
  {
   "cell_type": "markdown",
   "id": "d9cb5a9b-0bd1-477b-9ab4-d87a013bd220",
   "metadata": {},
   "source": [
    "Having the date we can drop some the year and month columns"
   ]
  },
  {
   "cell_type": "code",
   "execution_count": 213,
   "id": "cbac1213-364e-4bf5-8bc1-f68f4d0080e5",
   "metadata": {
    "tags": []
   },
   "outputs": [],
   "source": [
    "grpdf.drop(['Año', 'Mes'], inplace=True, axis=1)"
   ]
  },
  {
   "cell_type": "markdown",
   "id": "4fff98e3-f2bf-425a-81a4-6cab051d89d9",
   "metadata": {},
   "source": [
    "Finally we save the df as a cv to do the visuallization with power BI."
   ]
  },
  {
   "cell_type": "code",
   "execution_count": 215,
   "id": "601b999a-fecf-4b45-8a68-cb3a9699715d",
   "metadata": {
    "tags": []
   },
   "outputs": [],
   "source": [
    "grpdf.to_csv('filteredCrimanility.csv')"
   ]
  },
  {
   "cell_type": "markdown",
   "id": "679515a8-ae96-4a28-b67b-202fd9eae4d7",
   "metadata": {},
   "source": [
    "Now we will do some transforms in the csv's referred to population to group by some of the columns that we're interested. And finally at same time make the file lighter"
   ]
  },
  {
   "cell_type": "code",
   "execution_count": 1,
   "id": "36278458-4fd7-488b-8777-3c8d6d7e95f3",
   "metadata": {},
   "outputs": [],
   "source": [
    "import pandas as pd"
   ]
  },
  {
   "cell_type": "code",
   "execution_count": 2,
   "id": "d674369b-225c-46cf-ae2b-10a278ad6402",
   "metadata": {},
   "outputs": [],
   "source": [
    "df = pd.read_csv('base_municipios_final_datos_01.csv', encoding = 'latin-1')\n",
    "df = df[df['AÑO']<=2023]\n",
    "df = df.groupby(['CLAVE_ENT', 'AÑO'], as_index= False)['POB'].sum()\n",
    "df.to_csv('pob1.csv')"
   ]
  },
  {
   "cell_type": "code",
   "execution_count": null,
   "id": "be6cc0d6-3c19-4142-bfe3-6f5457fbad3e",
   "metadata": {},
   "outputs": [],
   "source": [
    "df = pd.read_csv('base_municipios_final_datos_02.csv', encoding = 'latin-1')\n",
    "df = df[df['AÑO']<=2023]\n",
    "df = df.groupby(['CLAVE_ENT', 'AÑO'], as_index= False)['POB'].sum()\n",
    "df.to_csv('pob2.csv')"
   ]
  },
  {
   "attachments": {
    "7c92fbca-b793-48e0-ac2e-5d92bfa5de47.png": {
     "image/png": "[encoded data removed]"
    }
   },
   "cell_type": "markdown",
   "id": "80ebce18-22aa-4158-bb08-78f9b9a0761b",
   "metadata": {},
   "source": [
    "![image.png](attachment:7c92fbca-b793-48e0-ac2e-5d92bfa5de47.png)\n",
    "\n",
    "In this specific case we can see that have files that are so much lighter."
   ]
  }
 ],
 "metadata": {
  "kernelspec": {
   "display_name": "Python 3 (ipykernel)",
   "language": "python",
   "name": "python3"
  },
  "language_info": {
   "codemirror_mode": {
    "name": "ipython",
    "version": 3
   },
   "file_extension": ".py",
   "mimetype": "text/x-python",
   "name": "python",
   "nbconvert_exporter": "python",
   "pygments_lexer": "ipython3",
   "version": "3.11.1"
  }
 },
 "nbformat": 4,
 "nbformat_minor": 5
}
